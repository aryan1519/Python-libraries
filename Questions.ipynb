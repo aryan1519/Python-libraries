{
 "cells": [
  {
   "cell_type": "markdown",
   "metadata": {},
   "source": [
    "Q1.)Job Location"
   ]
  },
  {
   "cell_type": "code",
   "execution_count": 17,
   "metadata": {},
   "outputs": [
    {
     "name": "stdout",
     "output_type": "stream",
     "text": [
      "66 1856 "
     ]
    }
   ],
   "source": [
    "import csv\n",
    "\n",
    "with open('Dataset/amazon_jobs_dataset.csv',encoding=\"utf8\") as file_obj:\n",
    "    \n",
    "    file_data = csv.DictReader(file_obj,skipinitialspace = True)\n",
    "    \n",
    "    countBangalore = 0\n",
    "    countSeattle = 0\n",
    "    \n",
    "    for row in file_data:\n",
    "        if row[\"location\"] == \"IN, KA, Bangalore \":\n",
    "            countBangalore+=1\n",
    "        elif row[\"location\"] == \"US, WA, Seattle \":\n",
    "            countSeattle+=1\n",
    "    \n",
    "    print(countBangalore,countSeattle,end = \" \")\n",
    "            \n",
    "            \n",
    "            \n",
    "        "
   ]
  },
  {
   "cell_type": "markdown",
   "metadata": {},
   "source": [
    "Q2.) Job Computer Vision"
   ]
  },
  {
   "cell_type": "code",
   "execution_count": 19,
   "metadata": {},
   "outputs": [
    {
     "name": "stdout",
     "output_type": "stream",
     "text": [
      "14\n"
     ]
    }
   ],
   "source": [
    "import csv\n",
    "\n",
    "with open('Dataset/amazon_jobs_dataset.csv',encoding=\"utf8\") as file_obj:\n",
    "    \n",
    "    file_data = csv.DictReader(file_obj,skipinitialspace = True)\n",
    "\n",
    "    c_v = 0\n",
    "    \n",
    "    for row in file_data:\n",
    "        if \"Computer Vision\" in row[\"Title\"]:\n",
    "            c_v+=1\n",
    "    print(c_v)"
   ]
  },
  {
   "cell_type": "markdown",
   "metadata": {},
   "source": [
    "Q3.)Job Canada "
   ]
  },
  {
   "cell_type": "code",
   "execution_count": 21,
   "metadata": {},
   "outputs": [
    {
     "name": "stdout",
     "output_type": "stream",
     "text": [
      "156\n"
     ]
    }
   ],
   "source": [
    "import csv\n",
    "\n",
    "with open('Dataset/amazon_jobs_dataset.csv',encoding=\"utf8\") as file_obj:\n",
    "    \n",
    "    file_data = csv.DictReader(file_obj,skipinitialspace = True)\n",
    "\n",
    "    canada = 0\n",
    "    \n",
    "    for row in file_data:\n",
    "        if \"CA\" == row[\"location\"][0:2]:\n",
    "            canada+=1\n",
    "    print(canada)"
   ]
  },
  {
   "cell_type": "markdown",
   "metadata": {},
   "source": [
    "Q4.)Job Month 2018"
   ]
  },
  {
   "cell_type": "code",
   "execution_count": 37,
   "metadata": {},
   "outputs": [
    {
     "name": "stdout",
     "output_type": "stream",
     "text": [
      "January 907 "
     ]
    }
   ],
   "source": [
    "import csv\n",
    "\n",
    "with open('Dataset/amazon_jobs_dataset.csv',encoding=\"utf8\") as file_obj:\n",
    "    \n",
    "    file_data = csv.DictReader(file_obj,skipinitialspace = True)\n",
    "\n",
    "    month_vs_count = {}\n",
    "    \n",
    "    for row in file_data:\n",
    "        if \"2018\" in row[\"Posting_date\"]:\n",
    "                     \n",
    "            k = row[\"Posting_date\"].split()[0]\n",
    "        \n",
    "            if k in month_vs_count:\n",
    "                month_vs_count[k]+=1\n",
    "            else:\n",
    "                month_vs_count[k] = 1\n",
    "    maximum = max(month_vs_count,key = month_vs_count.get)\n",
    "    print(maximum,month_vs_count[maximum],end = \" \")"
   ]
  },
  {
   "cell_type": "markdown",
   "metadata": {},
   "source": [
    "Q5.)Job Degree"
   ]
  },
  {
   "cell_type": "code",
   "execution_count": 36,
   "metadata": {},
   "outputs": [
    {
     "name": "stdout",
     "output_type": "stream",
     "text": [
      "2961\n"
     ]
    }
   ],
   "source": [
    "import csv\n",
    "\n",
    "with open('Dataset/amazon_jobs_dataset.csv',encoding=\"utf8\") as file_obj:\n",
    "    \n",
    "    file_data = csv.DictReader(file_obj,skipinitialspace = True)\n",
    "    \n",
    "    count = 0\n",
    "    for row in file_data:\n",
    "        key = row[\"BASIC QUALIFICATIONS\"]\n",
    "        if \"Bachelor\" in key or 'BA' in key or 'BS' in key:\n",
    "            count+=1\n",
    "    print(count)"
   ]
  },
  {
   "cell_type": "markdown",
   "metadata": {},
   "source": [
    "Q6.)Job Language"
   ]
  },
  {
   "cell_type": "code",
   "execution_count": null,
   "metadata": {},
   "outputs": [],
   "source": []
  },
  {
   "cell_type": "markdown",
   "metadata": {},
   "source": [
    "Q7.)Job Java"
   ]
  },
  {
   "cell_type": "code",
   "execution_count": 63,
   "metadata": {},
   "outputs": [
    {
     "name": "stdout",
     "output_type": "stream",
     "text": [
      "US 2009 "
     ]
    }
   ],
   "source": [
    "import csv\n",
    "\n",
    "with open('Dataset/amazon_jobs_dataset.csv',encoding=\"utf8\") as file_obj:\n",
    "    \n",
    "    file_data = csv.DictReader(file_obj,skipinitialspace = True)\n",
    "    \n",
    "    country_to_java = {}\n",
    "    for row in file_data:\n",
    "        key = row[\"location\"][0:2]\n",
    "        \n",
    "        if \"Java\" in row[\"BASIC QUALIFICATIONS\"]:\n",
    "            if key in country_to_java:\n",
    "                country_to_java[key]+=1\n",
    "            else:\n",
    "                country_to_java[key] = 1\n",
    "\n",
    "    m = max(country_to_java,key = country_to_java.get)\n",
    "    print(m,country_to_java[m],end = \" \")"
   ]
  },
  {
   "cell_type": "code",
   "execution_count": null,
   "metadata": {},
   "outputs": [],
   "source": []
  }
 ],
 "metadata": {
  "kernelspec": {
   "display_name": "Python 3",
   "language": "python",
   "name": "python3"
  },
  "language_info": {
   "codemirror_mode": {
    "name": "ipython",
    "version": 3
   },
   "file_extension": ".py",
   "mimetype": "text/x-python",
   "name": "python",
   "nbconvert_exporter": "python",
   "pygments_lexer": "ipython3",
   "version": "3.7.4"
  }
 },
 "nbformat": 4,
 "nbformat_minor": 2
}
